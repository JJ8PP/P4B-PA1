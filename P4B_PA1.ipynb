{
  "cells": [
    {
      "cell_type": "markdown",
      "metadata": {
        "id": "view-in-github",
        "colab_type": "text"
      },
      "source": [
        "<a href=\"https://colab.research.google.com/github/JJ8PP/P4B-PA1/blob/main/P4B_PA1.ipynb\" target=\"_parent\"><img src=\"https://colab.research.google.com/assets/colab-badge.svg\" alt=\"Open In Colab\"/></a>"
      ]
    },
    {
      "cell_type": "markdown",
      "id": "73198e5e",
      "metadata": {
        "id": "73198e5e"
      },
      "source": [
        "# Python for Beginners Programming Assignment 1\n",
        "\n",
        "### PA Philosophy\n",
        "\n",
        "The objective of PA1 is to practice Python code and expand your programming experience on some webinar topics. This will help you to understand how to apply Python code in more detail and depth to real-life problem. Please keep in mind this is not supposed to be an easy task. I expect the PAs to take time, require thinking and challenge you.\n"
      ]
    },
    {
      "cell_type": "markdown",
      "id": "711f31bd",
      "metadata": {
        "id": "711f31bd"
      },
      "source": [
        "# Question 1: Calculating calories burned during workout\n",
        "\n",
        "The following equation estimates the average calories burned for a person when exercising:\n",
        "\n",
        "$\\text{Calories} = \\frac{ \\left( \\text{Age} \\times 0.2757 + \\text{Weight} \\times 0.03295 + \\text{Heart Rate} \\times 1.0781 - 75.4991 \\right) \\times \\text{Time} }{8.368}$\n",
        "\n",
        "Write a program that collects the following inputs from a user:\n",
        "- age (years)\n",
        "- weight (pounds)\n",
        "- heart rate (beats per minute)\n",
        "- time (minutes).\n",
        "\n",
        "Convert all four inputs into **integers** and  output the average calories burned for a person.\n",
        "\n",
        "**Note**: Output each floating-point value with **two digits** after the decimal point, which can be achieved as follows:\n",
        "```python\n",
        "print(f'Calories: {calories:.2f} calories')\n",
        "```\n",
        "\n",
        "**Example**:\n",
        "```    \n",
        "    How old are you?: 49\n",
        "    Enter your weight (in lbs): 155\n",
        "    Enter your heart rate (beats per minute): 148\n",
        "    Enter the time of your workout in minutes: 60\n",
        "    \n",
        "    Congratulations! You have burned 736.21 calories.\n",
        "\n",
        "```"
      ]
    },
    {
      "cell_type": "code",
      "source": [
        "age = input(\"How old are you?: \")\n",
        "age = int(age)\n",
        "weight = input(\"Enter your weight (in lbs): \")\n",
        "weight = int(weight)\n",
        "heart_rate = input(\"Enter your heart rate (beats per minute): \")\n",
        "heart_rate = int(heart_rate)\n",
        "workout = input(\"Enter the time of your workout in minutes: \")\n",
        "workout = int(workout)\n",
        "Calories = ((age * 0.2757 + weight * 0.03295 + heart_rate * 1.0781-75.4991) * workout)/8.368\n",
        "print(f\"Congratulations! You have burned {Calories}\")"
      ],
      "metadata": {
        "colab": {
          "base_uri": "https://localhost:8080/"
        },
        "id": "Ouh3AJaqc-F-",
        "outputId": "529f41b8-54f2-454a-fe9d-dc86d9cadca1"
      },
      "id": "Ouh3AJaqc-F-",
      "execution_count": null,
      "outputs": [
        {
          "output_type": "stream",
          "name": "stdout",
          "text": [
            "How old are you?: 49\n",
            "Enter your weight (in lbs): 155\n",
            "Enter your heart rate (beats per minute): 148\n",
            "Enter the time of your workout in minutes: 60\n",
            "Congratulations! You have burned 736.2063814531549\n"
          ]
        }
      ]
    },
    {
      "cell_type": "code",
      "execution_count": null,
      "id": "4babc1ef",
      "metadata": {
        "colab": {
          "base_uri": "https://localhost:8080/"
        },
        "id": "4babc1ef",
        "outputId": "25dd8ad3-0c5b-433e-dc85-678dcaa5ebb3"
      },
      "outputs": [
        {
          "output_type": "stream",
          "name": "stdout",
          "text": [
            "How old are you?: 49\n",
            "Enter your weight (in lbs): 155\n",
            "Enter your heart rate (beats per minute): 148\n",
            "Enter the time of your workout in minutes: 60\n",
            "Congratulations! You have burned 736.21\n"
          ]
        }
      ],
      "source": [
        "# Question 1 Code Here\n",
        "age = input(\"How old are you?: \")\n",
        "age = int(age)\n",
        "weight = input(\"Enter your weight (in lbs): \")\n",
        "weight = int(weight)\n",
        "heart_rate = input(\"Enter your heart rate (beats per minute): \")\n",
        "heart_rate = int(heart_rate)\n",
        "workout = input(\"Enter the time of your workout in minutes: \")\n",
        "workout = int(workout)\n",
        "Calories = ((age * 0.2757 + weight * 0.03295 + heart_rate * 1.0781-75.4991) * workout)/8.368\n",
        "Calories = format(Calories, \".2f\")\n",
        "print(f\"Congratulations! You have burned {Calories}\")\n",
        "\n",
        "\n",
        "\n",
        "\n"
      ]
    },
    {
      "cell_type": "markdown",
      "id": "31da126f",
      "metadata": {
        "id": "31da126f"
      },
      "source": [
        "# Question 2: Pizza Slice\n",
        "David is on a diet. However, he loves piazza, so every time, he calculates the area of each pizza slice to get an idea of the consumed calories. David used Heron's formula to calculate the area as each pizza slice is close to triangular. Given the length of each side of a triangle as input, the area of the triangle can be then calculated using Heron's formula as follows:\n",
        "\n",
        "- Suppose $s$ is half of the triangle's perimeter\n",
        "- $\\text{Area} = \\sqrt{s(s-a)(s-b)(s-c)}$, where $a$, $b$, and $c$ are each side of the triangle\n",
        "\n",
        "In the code cell below, write a Python program for David to calculate the area of a triangle based on three user-supplied values, representing the lengths of the sides of the triangle-shaped pizza slice. Each value can be either a float or an integer but should be stored as a **float**. Your program should then calculate the area of the triangle and display the result with **three digits** after the decimal point.\n",
        "\n",
        "**Example**:\n",
        "```    \n",
        "    Enter value of side a: 3\n",
        "    Enter value of side b: 4\n",
        "    Enter value of side c: 5.0\n",
        "    \n",
        "    The area of the pizza slice is: 6.000\n",
        "```\n",
        "\n",
        "**Hints**:\n",
        "- You can use the $sqrt()$ function from the $math$ module to calculate the square root\n",
        "- Make sure to enter a valid triangle when testing your code with your own inputs\n",
        "- Below is an example of printing a floating-point value with three digits after the decimal point:\n",
        "```python\n",
        "print(f'The area of the pizza slice is: {your_value:.3f}')\n",
        "```"
      ]
    },
    {
      "cell_type": "code",
      "execution_count": null,
      "id": "57afd4f1",
      "metadata": {
        "colab": {
          "base_uri": "https://localhost:8080/"
        },
        "id": "57afd4f1",
        "outputId": "d3ead072-179c-4c7e-f87d-530337585ada"
      },
      "outputs": [
        {
          "output_type": "stream",
          "name": "stdout",
          "text": [
            "Enter value of side a: 3\n",
            "Enter value of side b: 4\n",
            "Enter value of side c: 5\n",
            "The area of the pizza slide is: 6.000\n"
          ]
        }
      ],
      "source": [
        "# Question 2 Code Here\n",
        "a = input(\"Enter value of side a: \")\n",
        "a = int(a)\n",
        "b = input(\"Enter value of side b: \")\n",
        "b = int(b)\n",
        "c = input(\"Enter value of side c: \")\n",
        "c = int(c)\n",
        "s = (a+b+c)/2\n",
        "import math\n",
        "t = s*(s-a)*(s-b)*(s-c)\n",
        "Area = math.sqrt(t)\n",
        "Area = format(Area, \".3f\")\n",
        "print(f\"The area of the pizza slide is: {Area}\")\n",
        "\n",
        "\n",
        "\n",
        "\n",
        "\n"
      ]
    },
    {
      "cell_type": "markdown",
      "id": "dec1e0fe-550a-4d39-ad3e-c221d2db17fb",
      "metadata": {
        "id": "dec1e0fe-550a-4d39-ad3e-c221d2db17fb"
      },
      "source": [
        "# Question 3: Enhanced Water Intake Calculation\n",
        "The following equation estimates the recommended water intake for a person:\n",
        "\n",
        "$\\text{Water Intake (in liters)} = \\text{Weight} \\times 0.03 + \\text{Time in Hot Weather (hrs)} \\times 0.5 + \\text{Exercise Intensity}^2 \\times 0.05$\n",
        "\n",
        "Write a program that collects the following inputs from a user:\n",
        "- weight (kilograms)\n",
        "- time spent in hot weather (hours)\n",
        "- exercise intensity.\n",
        "  \n",
        "Convert all inputs into **floats** and output the recommended water intake in liters.\n",
        "\n",
        "**Note**:\n",
        "- Exercise intensity ranges from 1 to 10. A rating of 1 indicates light exercise, while 10 signifies an intense workout session.\n",
        "- Output each floating-point value with **two digits** after the decimal point.\n",
        "\n",
        "**Example**:\n",
        "```\n",
        "    Enter your weight (in kgs): 70\n",
        "    Enter the time you spent in hot weather (hours): 2\n",
        "    Enter your exercise intensity (from 1 to 10): 5\n",
        "    Stay Hydrated! Your recommended water intake is 4.35 liters.\n",
        "```"
      ]
    },
    {
      "cell_type": "code",
      "execution_count": null,
      "id": "7878014e-2f2b-4e59-8cdf-42d5c9099e6d",
      "metadata": {
        "colab": {
          "base_uri": "https://localhost:8080/"
        },
        "id": "7878014e-2f2b-4e59-8cdf-42d5c9099e6d",
        "outputId": "2f3c2ef1-06f7-452c-90fd-e112617b157e"
      },
      "outputs": [
        {
          "output_type": "stream",
          "name": "stdout",
          "text": [
            "Enter your weight (in kg): 70\n",
            "Enter the time you spent in hot weather (hours): 2\n",
            "Enter your exercise intensity (from 1 to 10): 5\n",
            "Stay Hydrated! Your recommended water intake is 4.35 liters\n"
          ]
        }
      ],
      "source": [
        "# Question 3 Code Here\n",
        "weight = input(\"Enter your weight (in kg): \")\n",
        "weight = float(weight)\n",
        "\n",
        "hot_weather = input(\"Enter the time you spent in hot weather (hours): \")\n",
        "hot_weather = float(hot_weather)\n",
        "\n",
        "intensity = input(\"Enter your exercise intensity (from 1 to 10): \")\n",
        "intensity = float(intensity)\n",
        "\n",
        "Water_Intake = weight * 0.03 + hot_weather * 0.5 + intensity * intensity * 0.05\n",
        "Water_Intake = format(Water_Intake, \".2f\")\n",
        "print(f\"Stay Hydrated! Your recommended water intake is {Water_Intake} liters\")\n",
        "\n",
        "\n",
        "\n",
        "\n"
      ]
    },
    {
      "cell_type": "markdown",
      "id": "0f5692d7-920d-40a5-89df-752b5d835f7c",
      "metadata": {
        "id": "0f5692d7-920d-40a5-89df-752b5d835f7c"
      },
      "source": [
        "# Question 4: Enhanced Fuel Cost Estimation\n",
        "\n",
        "The following equation estimates the fuel cost for a trip:\n",
        "\n",
        "$\\text{Fuel Cost} = \\text{Distance (in miles)} \\times \\left( \\text{Price per gallon} + \\text{Tax per gallon} \\right) \\times \\left( \\frac{1}{{(\\text{Miles per gallon})}^{0.95}} \\right)$\n",
        "\n",
        "\n",
        "Write a program that collects the following inputs from a user:\n",
        "- distance (miles)\n",
        "- price per gallon (dollars)\n",
        "- tax per gallon (dollars)\n",
        "- miles per gallon.\n",
        "\n",
        "Convert all inputs into **floats** and output the rounded fuel cost for the trip.\n",
        "\n",
        "**Note**: Use $round()$ to round the fuel cost to the nearest whole number before displaying.\n",
        "\n",
        "**Example**:\n",
        "```\n",
        "    Enter the distance of your trip (in miles): 300\n",
        "    Enter the price per gallon (in dollars): 3\n",
        "    Enter the tax per gallon (in dollars):  0.25\n",
        "    Enter the efficiency of your vehicle (miles per gallon): 25\n",
        "    \n",
        "    Your estimated fuel cost for the trip is $46.\n",
        "\n",
        "```\n",
        "\n",
        "**Hint**: You can use the $math.pow()$ function to calculate the value of x raised to power y."
      ]
    },
    {
      "cell_type": "code",
      "execution_count": null,
      "id": "7cce4f54-16c1-457e-9134-f62246006e06",
      "metadata": {
        "colab": {
          "base_uri": "https://localhost:8080/"
        },
        "id": "7cce4f54-16c1-457e-9134-f62246006e06",
        "outputId": "bcbf255f-0620-4056-e341-8c8729f8d2e7"
      },
      "outputs": [
        {
          "output_type": "stream",
          "name": "stdout",
          "text": [
            "Enter the distance of your trip (in miles): 300\n",
            "Enter the price per gallon (in dollars): 3\n",
            "Enter the tax per gallon (in dollars): 0.25\n",
            " Enter the efficiency of your vehicle (miles per gallon): 25\n",
            "Your estimated fuel cost for the trip is $46\n"
          ]
        }
      ],
      "source": [
        "# Question 4 Code Here\n",
        "\n",
        "distance = input(\"Enter the distance of your trip (in miles): \")\n",
        "distance = float(distance)\n",
        "\n",
        "price = input(\"Enter the price per gallon (in dollars): \")\n",
        "price = float(price)\n",
        "\n",
        "tax = input(\"Enter the tax per gallon (in dollars): \")\n",
        "tax = float(tax)\n",
        "\n",
        "efficiency = input(\" Enter the efficiency of your vehicle (miles per gallon): \")\n",
        "efficiency = float(efficiency)\n",
        "\n",
        "import math\n",
        "fuel_cost = distance * (price + tax) * (1 / math.pow(efficiency,0.95))\n",
        "fuel_cost = round(fuel_cost)\n",
        "print(f\"Your estimated fuel cost for the trip is ${fuel_cost}\")\n",
        "\n",
        "\n",
        "\n"
      ]
    },
    {
      "cell_type": "markdown",
      "id": "0cf11c1d",
      "metadata": {
        "id": "0cf11c1d"
      },
      "source": [
        "# Question 5: Carpet Sales\n",
        "\n",
        "Amy is refurbishing her apartment and needs a new carpet for one of her rooms. Your task is to write a program to assist her in calculating the replacement cost.\n",
        "\n",
        "**Note**: Carpets are priced per square foot. The total replacement cost will consist of the carpet's cost, labor charges, and sales tax. Display the final cost rounded to **two decimals**. Use the following code to output:\n",
        "\n",
        "```python\n",
        "print(f'Cost: ${cost:.2f}')\n",
        "```\n",
        "\n",
        "The steps below are provided to help you incrementally develop the program. Type your complete code in the code cell following the instructions below.\n",
        "\n",
        "### STEP 1\n",
        "- Prompt the user to enter the carpet's price per square foot (as a float), the room's width and the room's length (both as integers).\n",
        "- Calculate the room's area in square feet.\n",
        "- Calculate the carpet cost considering the room's area. Add an additional 20% to the carpet cost to account for waste.\n",
        "\n",
        "### STEP 2\n",
        "- Calculate the labor charges for installation. The rate is $0.75 for every actual square foot of the room.\n",
        "\n",
        "### STEP 3\n",
        "- Calculate a 7% sales tax based on the sum of the carpet and labor costs.\n",
        "\n",
        "### STEP 4\n",
        "- Display the room's square footage, the carpet cost, labor cost, sales tax, and total cost.\n",
        "\n",
        "### STEP 5\n",
        "- Redo steps 1-3 but this time for a second order.\n",
        "- Keep a running total for both orders' costs.\n",
        "- For each order, display all the relevant details under a distinct heading.\n",
        "- Finally, show the combined total cost of both orders.\n",
        "\n",
        "\n",
        "**Example**:\n",
        "\n",
        "```\n",
        "    What is the carpet price per square foot? .95\n",
        "    What is the width of the room (in feet)? 12\n",
        "    What is the length of the room (in feet)? 12\n",
        "    \n",
        "    Order #1\n",
        "    Room: 144 sq ft\n",
        "    Carpet: $164.16\n",
        "    Labor: $108.00\n",
        "    Tax: $19.05\n",
        "    ---------------\n",
        "    Cost: $291.21\n",
        "    \n",
        "    \n",
        "    What is the carpet price per square foot? 1.25\n",
        "    What is the width of the room (in feet)? 8\n",
        "    What is the length of the room (in feet)? 18\n",
        "\n",
        "    Order #2\n",
        "    Room: 144 sq ft\n",
        "    Carpet: $216.00\n",
        "    Labor: $108.00\n",
        "    Tax: $22.68\n",
        "    ---------------\n",
        "    Cost: $346.68\n",
        "\n",
        "    Total Sales of Order 1 and Order 2: $637.89\n",
        "    \n",
        "```"
      ]
    },
    {
      "cell_type": "code",
      "execution_count": null,
      "id": "1fe483e6",
      "metadata": {
        "colab": {
          "base_uri": "https://localhost:8080/"
        },
        "id": "1fe483e6",
        "outputId": "4e34858a-ed2a-4bcf-fbf5-bafc44bbc546"
      },
      "outputs": [
        {
          "output_type": "stream",
          "name": "stdout",
          "text": [
            "What is the carpet price per square foot? 0.95\n",
            "What is the width of the room (in feet)? 12\n",
            "What is the length of the room (in feet)?12\n",
            "Order #1\n",
            "Room: 144.0 sq ft\n",
            "Carpet: $164.16\n",
            "Labor: $108.00\n",
            "Tax: $19.05\n",
            "---------------\n",
            "Cost: $164.16108.0019.05\n"
          ]
        }
      ],
      "source": [
        "# Question 5 Code Here\n",
        "carpet_price_1 = input(\"What is the carpet price per square foot? \")\n",
        "carpet_price_1 = float(carpet_price_1)\n",
        "\n",
        "width_1 = input(\"What is the width of the room (in feet)? \")\n",
        "width_1 = int(width_1)\n",
        "\n",
        "lenght_1 = input(\"What is the length of the room (in feet)?\")\n",
        "lenght_1 = int(lenght_1)\n",
        "\n",
        "Room_area_1 = width_1 * lenght_1\n",
        "Room_area_1 = float(Room_area_1)\n",
        "\n",
        "Carpet_cost_1 = Room_area_1 * carpet_price_1 * (1+0.2)\n",
        "Carpet_cost_1 = format(Carpet_cost_1, \".2f\")\n",
        "\n",
        "Labor_cost_1 = 0.75 * Room_area_1\n",
        "Labor_cost_1 = format(Labor_cost_1, \".2f\")\n",
        "\n",
        "Tax_1 = (float(Carpet_cost_1) + float(Labor_cost_1)) * 0.07\n",
        "Tax_1 = format(Tax_1, \".2f\")\n",
        "\n",
        "Total_1 = Carpet_cost_1 + Labor_cost_1 + Tax_1\n",
        "\n",
        "print(\"Order #1\")\n",
        "print(f\"Room: {Room_area_1} sq ft\")\n",
        "print(f\"Carpet: ${Carpet_cost_1}\")\n",
        "print(f\"Labor: ${Labor_cost_1}\")\n",
        "print(f\"Tax: ${Tax_1}\")\n",
        "print(\"---------------\")\n",
        "print(f\"Cost: ${Total_1}\")\n",
        "\n"
      ]
    },
    {
      "cell_type": "markdown",
      "id": "38937af6",
      "metadata": {
        "id": "38937af6"
      },
      "source": [
        "## Question 6: Password Generator\n",
        "\n",
        "In this question, you'll implement a Python program to generate a strong password for a user.\n",
        "\n",
        "First, prompt the user to enter their favorite color and the make of their first car, both in one word. Additionally, prompt them for a 4-digit pin (you can assume the user will enter a valid 4-digit number). Store **the color and the make as string variables**, and **the pin as an integer variable**. Then, display these three values on a single line, separated by spaces. Your output should match the sample output provided below.\n",
        "\n",
        "Next, using the user's input, generate three passwords:\n",
        "\n",
        "1) The first password consists of the user's **vehicle make**, followed by a **colon (:)**, and then their **favorite color**.\n",
        "2) The second password **starts and ends with the user's pin**, with the **vehicle make** in between.\n",
        "3) The third password starts with the **first character of the user's vehicle make**, followed by **the second to the last character of the make**, a special character string **\"@secret\"**, and ends with the user's **pin**.\n",
        "   \n",
        "Format the generated passwords as demonstrated in the example below, using the aforementioned inputs.\n",
        "\n",
        "Lastly, print the **length** (i.e., the number of characters) of each generated password.\n",
        "\n",
        "#### Here's a sample run of the program:\n",
        "\n",
        "```\n",
        "Enter favorite color (in one word): Magenta\n",
        "Enter the make of your first car: Nissan\n",
        "Enter a 4-digit pin: 2510\n",
        "You entered: Magenta Toyota 2510\n",
        "  \n",
        "First password: Nissan:Magenta\n",
        "Second password: 2510Nissan2510\n",
        "Third password: Na@secret2510\n",
        "\n",
        "Number of characters in Nissan:Magenta: 14\n",
        "Number of characters in 2510Nissan2510: 14\n",
        "Number of characters in Na@secret2510: 13\n",
        "```"
      ]
    },
    {
      "cell_type": "code",
      "execution_count": 8,
      "id": "8ed688f7",
      "metadata": {
        "id": "8ed688f7",
        "colab": {
          "base_uri": "https://localhost:8080/"
        },
        "outputId": "71ccf538-8004-43be-cbd3-c26daab22b0f"
      },
      "outputs": [
        {
          "output_type": "stream",
          "name": "stdout",
          "text": [
            "Enter favorite color (in one word): Magenta\n",
            "Enter the make of your first car: Nissan\n",
            "Enter a 4-digit pin: 2510\n",
            "You entered: Magenta Nissan 2510\n",
            "First password: Nissan:Magenta\n",
            "Second password: 2510Nissan2510\n",
            "Third password: Nn@secret2510\n",
            "Number of characters in Nissan:Magenta: 14\n",
            "Number of characters in 2510Nissan2510: 14\n",
            "Number of characters in Nn@secret2510: 13\n"
          ]
        }
      ],
      "source": [
        "# Question 6 Code Here\n",
        "\n",
        "favorite_color = input(\"Enter favorite color (in one word): \")\n",
        "first_car = input(\"Enter the make of your first car: \")\n",
        "pin = input(\"Enter a 4-digit pin: \")\n",
        "print(f\"You entered: {favorite_color} {first_car} {pin}\")\n",
        "print(f\"First password: {first_car}:{favorite_color}\")\n",
        "print(f\"Second password: {pin}{first_car}{pin}\")\n",
        "print(f\"Third password: {first_car[0]}{first_car[len(first_car)-1]}@secret{pin}\")\n",
        "l_first_psw = len(favorite_color)+1+len(first_car)\n",
        "l_second_psw = len(first_car)+8\n",
        "l_third_psw = 13\n",
        "print(f\"Number of characters in {first_car}:{favorite_color}: {l_first_psw}\")\n",
        "print(f\"Number of characters in {pin}{first_car}{pin}: {l_second_psw}\")\n",
        "print(f\"Number of characters in {first_car[0]}{first_car[len(first_car)-1]}@secret{pin}: {l_third_psw}\")\n",
        "\n"
      ]
    },
    {
      "cell_type": "markdown",
      "id": "3083d9e6",
      "metadata": {
        "id": "3083d9e6"
      },
      "source": [
        "\n",
        "## Challenge Questions\n",
        "\n",
        "### Part A: Fax Number Formatting\n",
        "Write a Python program to:\n",
        "\n",
        "1. Accept a user-supplied number representing a **10-digit fax number**.\n",
        "2. Store this number as an **integer** variable named **_fax_number_**.\n",
        "3. Using appropriate **arithmetic operators** (as discussed in MODULE 2), extract the:\n",
        "- Area code (first 3 digits)\n",
        "- Prefix (middle 3 digits)\n",
        "- Line number (last 4 digits)\n",
        "  \n",
        "All three variables should store values of the **integer** type. For the sake of simplicity, assume that each segment of the number starts with a **non-zero** digit. For instance, 0119998888 and 250033121 would both be considered invalid.\n",
        "\n",
        "4. Finally, output the formatted fax number using the extracted variables in the following format: (xxx)-xxx-xxxx.\n",
        "\n",
        "#### Here's a sample run of step 1:\n",
        "\n",
        "```\n",
        "Enter a 10-digit number: 8005551212\n",
        "Your fax number is: (800)-555-1212\n",
        "\n",
        "```\n",
        "\n",
        "### Part B: Tax Identifier Number Formatting\n",
        "Write a Python program to:\n",
        "\n",
        "1. Accept a user-supplied number representing a **9-digit Tax Identifier Number (TIN)**.\n",
        "2. Store this number as an **integer** variable named **_tin_**.\n",
        "3. Using appropriate **arithmetic operators** (as discussed in MODULE 2), extract the:\n",
        "- First 3 digits\n",
        "- Middle 2 digits\n",
        "- Last 4 digits\n",
        "\n",
        "All three variables should store values of the **integer** type. Same as step 1, assume that each segment of the number starts with a **non-zero** digit.\n",
        "\n",
        "4. Finally, output the formatted TIN using the extracted variables in the following format: xxx-xx-xxxx.\n",
        "\n",
        "#### Here's a sample run of step 2:\n",
        "\n",
        "```\n",
        "Enter your tax identifier number: 712345636\n",
        "Your TIN is: 712-34-5636\n",
        "\n",
        "```"
      ]
    },
    {
      "cell_type": "code",
      "execution_count": null,
      "id": "ac18521f",
      "metadata": {
        "id": "ac18521f"
      },
      "outputs": [],
      "source": [
        "# Challenge Questions Code Here\n",
        "\n",
        "\n",
        "\n",
        "\n",
        "\n"
      ]
    }
  ],
  "metadata": {
    "kernelspec": {
      "display_name": "Python 3 (ipykernel)",
      "language": "python",
      "name": "python3"
    },
    "language_info": {
      "codemirror_mode": {
        "name": "ipython",
        "version": 3
      },
      "file_extension": ".py",
      "mimetype": "text/x-python",
      "name": "python",
      "nbconvert_exporter": "python",
      "pygments_lexer": "ipython3",
      "version": "3.11.5"
    },
    "colab": {
      "provenance": [],
      "include_colab_link": true
    }
  },
  "nbformat": 4,
  "nbformat_minor": 5
}